{
 "cells": [
  {
   "cell_type": "code",
   "execution_count": 66,
   "metadata": {},
   "outputs": [
    {
     "name": "stdout",
     "output_type": "stream",
     "text": [
      "Train examples: 60000\n",
      "Test examples: 10000\n"
     ]
    }
   ],
   "source": [
    "from keras.datasets import mnist\n",
    "\n",
    "(x_train, y_train), (x_test, y_test) = mnist.load_data()\n",
    "\n",
    "print('Train examples:', len(x_train))\n",
    "print('Test examples:', len(x_test))"
   ]
  },
  {
   "cell_type": "code",
   "execution_count": 67,
   "metadata": {},
   "outputs": [
    {
     "data": {
      "image/png": "[encoded data removed]",
      "text/plain": [
       "<Figure size 1440x360 with 6 Axes>"
      ]
     },
     "metadata": {},
     "output_type": "display_data"
    }
   ],
   "source": [
    "import matplotlib.pyplot as plt\n",
    "\n",
    "fig = plt.figure(figsize=(20,5))\n",
    "\n",
    "for i in range(6):\n",
    "    ax = fig.add_subplot(1, 6, i+1)\n",
    "    ax.imshow(x_train[i], cmap='gray')\n",
    "    ax.set_title(str(y_train[i]))"
   ]
  },
  {
   "cell_type": "code",
   "execution_count": 68,
   "metadata": {},
   "outputs": [],
   "source": [
    "img_rows, img_cols = 28, 28\n",
    "x_train = x_train.reshape(x_train.shape[0], img_rows, img_cols, 1)\n",
    "x_test = x_test.reshape(x_test.shape[0], img_rows, img_cols, 1)\n",
    "input_shape = (img_rows, img_cols, 1)\n",
    "\n",
    "x_train = x_train.astype('float32') / 255\n",
    "x_test = x_test.astype('float32') / 255"
   ]
  },
  {
   "cell_type": "code",
   "execution_count": 69,
   "metadata": {},
   "outputs": [
    {
     "name": "stdout",
     "output_type": "stream",
     "text": [
      "5\n",
      "[0. 0. 0. 0. 0. 1. 0. 0. 0. 0.]\n"
     ]
    }
   ],
   "source": [
    "from keras.utils import np_utils\n",
    "\n",
    "n_classes = 10\n",
    "print(y_train[0])\n",
    "y_train = np_utils.to_categorical(y_train, n_classes)\n",
    "y_test = np_utils.to_categorical(y_test, n_classes)\n",
    "print(y_train[0])"
   ]
  },
  {
   "cell_type": "code",
   "execution_count": 75,
   "metadata": {},
   "outputs": [
    {
     "name": "stdout",
     "output_type": "stream",
     "text": [
      "(28, 28, 1)\n",
      "_________________________________________________________________\n",
      "Layer (type)                 Output Shape              Param #   \n",
      "=================================================================\n",
      "conv2d_36 (Conv2D)           (None, 27, 27, 32)        160       \n",
      "_________________________________________________________________\n",
      "max_pooling2d_30 (MaxPooling (None, 13, 13, 32)        0         \n",
      "_________________________________________________________________\n",
      "conv2d_37 (Conv2D)           (None, 12, 12, 64)        8256      \n",
      "_________________________________________________________________\n",
      "max_pooling2d_31 (MaxPooling (None, 6, 6, 64)          0         \n",
      "_________________________________________________________________\n",
      "flatten_14 (Flatten)         (None, 2304)              0         \n",
      "_________________________________________________________________\n",
      "dense_29 (Dense)             (None, 512)               1180160   \n",
      "_________________________________________________________________\n",
      "dropout_22 (Dropout)         (None, 512)               0         \n",
      "_________________________________________________________________\n",
      "dense_30 (Dense)             (None, 10)                5130      \n",
      "=================================================================\n",
      "Total params: 1,193,706\n",
      "Trainable params: 1,193,706\n",
      "Non-trainable params: 0\n",
      "_________________________________________________________________\n"
     ]
    }
   ],
   "source": [
    "from keras.models import Sequential\n",
    "from keras.layers import Dense, Conv2D, MaxPooling2D, Dropout, Flatten\n",
    "print(input_shape)\n",
    "model = Sequential()\n",
    "model.add(Conv2D(filters=32, kernel_size=2,activation='relu',input_shape=input_shape))\n",
    "model.add(MaxPooling2D(pool_size=2))\n",
    "\n",
    "model.add(Conv2D(filters=64, kernel_size=2, activation='relu'))\n",
    "model.add(MaxPooling2D(pool_size=2))\n",
    "\n",
    "model.add(Flatten())\n",
    "model.add(Dense(512, activation='relu'))\n",
    "model.add(Dropout(0.2))\n",
    "\n",
    "model.add(Dense(n_classes, activation='softmax'))\n",
    "model.summary()"
   ]
  },
  {
   "cell_type": "code",
   "execution_count": 76,
   "metadata": {},
   "outputs": [],
   "source": [
    "import keras\n",
    "model.compile(loss=keras.losses.categorical_crossentropy,\n",
    "              optimizer=keras.optimizers.Adadelta(),\n",
    "              metrics=['accuracy'])"
   ]
  },
  {
   "cell_type": "code",
   "execution_count": 77,
   "metadata": {},
   "outputs": [
    {
     "name": "stdout",
     "output_type": "stream",
     "text": [
      "Train on 48000 samples, validate on 12000 samples\n",
      "Epoch 1/15\n",
      " - 48s - loss: 0.3118 - acc: 0.9021 - val_loss: 0.0839 - val_acc: 0.9763\n",
      "\n",
      "Epoch 00001: val_loss improved from inf to 0.08386, saving model to best_mnist_cnn_keras.hdf5\n",
      "Epoch 2/15\n",
      " - 53s - loss: 0.0798 - acc: 0.9749 - val_loss: 0.0598 - val_acc: 0.9823\n",
      "\n",
      "Epoch 00002: val_loss improved from 0.08386 to 0.05981, saving model to best_mnist_cnn_keras.hdf5\n",
      "Epoch 3/15\n",
      " - 54s - loss: 0.0534 - acc: 0.9835 - val_loss: 0.0571 - val_acc: 0.9830\n",
      "\n",
      "Epoch 00003: val_loss improved from 0.05981 to 0.05713, saving model to best_mnist_cnn_keras.hdf5\n",
      "Epoch 4/15\n",
      " - 48s - loss: 0.0400 - acc: 0.9876 - val_loss: 0.0450 - val_acc: 0.9854\n",
      "\n",
      "Epoch 00004: val_loss improved from 0.05713 to 0.04496, saving model to best_mnist_cnn_keras.hdf5\n",
      "Epoch 5/15\n",
      " - 48s - loss: 0.0314 - acc: 0.9903 - val_loss: 0.0413 - val_acc: 0.9875\n",
      "\n",
      "Epoch 00005: val_loss improved from 0.04496 to 0.04131, saving model to best_mnist_cnn_keras.hdf5\n",
      "Epoch 6/15\n",
      " - 48s - loss: 0.0254 - acc: 0.9921 - val_loss: 0.0411 - val_acc: 0.9881\n",
      "\n",
      "Epoch 00006: val_loss improved from 0.04131 to 0.04106, saving model to best_mnist_cnn_keras.hdf5\n",
      "Epoch 7/15\n",
      " - 48s - loss: 0.0202 - acc: 0.9939 - val_loss: 0.0401 - val_acc: 0.9879\n",
      "\n",
      "Epoch 00007: val_loss improved from 0.04106 to 0.04014, saving model to best_mnist_cnn_keras.hdf5\n",
      "Epoch 8/15\n",
      " - 48s - loss: 0.0174 - acc: 0.9943 - val_loss: 0.0387 - val_acc: 0.9887\n",
      "\n",
      "Epoch 00008: val_loss improved from 0.04014 to 0.03875, saving model to best_mnist_cnn_keras.hdf5\n",
      "Epoch 9/15\n",
      " - 48s - loss: 0.0139 - acc: 0.9955 - val_loss: 0.0382 - val_acc: 0.9902\n",
      "\n",
      "Epoch 00009: val_loss improved from 0.03875 to 0.03823, saving model to best_mnist_cnn_keras.hdf5\n",
      "Epoch 10/15\n",
      " - 49s - loss: 0.0105 - acc: 0.9968 - val_loss: 0.0388 - val_acc: 0.9906\n",
      "\n",
      "Epoch 00010: val_loss did not improve from 0.03823\n",
      "Epoch 11/15\n",
      " - 49s - loss: 0.0090 - acc: 0.9972 - val_loss: 0.0402 - val_acc: 0.9897\n",
      "\n",
      "Epoch 00011: val_loss did not improve from 0.03823\n",
      "Epoch 12/15\n",
      " - 48s - loss: 0.0084 - acc: 0.9974 - val_loss: 0.0387 - val_acc: 0.9902\n",
      "\n",
      "Epoch 00012: val_loss did not improve from 0.03823\n",
      "Epoch 13/15\n",
      " - 48s - loss: 0.0059 - acc: 0.9983 - val_loss: 0.0388 - val_acc: 0.9910\n",
      "\n",
      "Epoch 00013: val_loss did not improve from 0.03823\n",
      "Epoch 14/15\n",
      " - 48s - loss: 0.0055 - acc: 0.9982 - val_loss: 0.0458 - val_acc: 0.9899\n",
      "\n",
      "Epoch 00014: val_loss did not improve from 0.03823\n",
      "Epoch 15/15\n",
      " - 48s - loss: 0.0048 - acc: 0.9985 - val_loss: 0.0412 - val_acc: 0.9900\n",
      "\n",
      "Epoch 00015: val_loss did not improve from 0.03823\n"
     ]
    },
    {
     "data": {
      "text/plain": [
       "<keras.callbacks.History at 0x2cd85a3c5c0>"
      ]
     },
     "execution_count": 77,
     "metadata": {},
     "output_type": "execute_result"
    }
   ],
   "source": [
    "from keras.callbacks import ModelCheckpoint\n",
    "\n",
    "checkpointer = ModelCheckpoint(filepath='best_mnist_cnn_keras.hdf5', verbose=1, save_best_only=True)\n",
    "model.fit(x_train, y_train, batch_size=128, epochs=15, validation_split=0.2, callbacks=[checkpointer], verbose=2, shuffle=True)"
   ]
  },
  {
   "cell_type": "code",
   "execution_count": 78,
   "metadata": {},
   "outputs": [],
   "source": [
    "model.load_weights('best_mnist_cnn_keras.hdf5')"
   ]
  },
  {
   "cell_type": "code",
   "execution_count": 79,
   "metadata": {},
   "outputs": [
    {
     "name": "stdout",
     "output_type": "stream",
     "text": [
      "accuracy: 99.07000000000001\n"
     ]
    }
   ],
   "source": [
    "score = model.evaluate(x_test, y_test, verbose=0)\n",
    "print('accuracy: {}'.format(100*score[1]))"
   ]
  }
 ],
 "metadata": {
  "kernelspec": {
   "display_name": "Python 3",
   "language": "python",
   "name": "python3"
  },
  "language_info": {
   "codemirror_mode": {
    "name": "ipython",
    "version": 3
   },
   "file_extension": ".py",
   "mimetype": "text/x-python",
   "name": "python",
   "nbconvert_exporter": "python",
   "pygments_lexer": "ipython3",
   "version": "3.6.5"
  }
 },
 "nbformat": 4,
 "nbformat_minor": 2
}
